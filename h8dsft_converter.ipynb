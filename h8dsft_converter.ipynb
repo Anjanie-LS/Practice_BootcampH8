{
 "cells": [
  {
   "cell_type": "markdown",
   "id": "1cc03d46",
   "metadata": {},
   "source": [
    "key variables:\n",
    "- K = Kelvin\n",
    "- C = degree Celcius\n",
    "- F = Farenheit"
   ]
  },
  {
   "cell_type": "code",
   "execution_count": 1,
   "id": "f3466883",
   "metadata": {},
   "outputs": [],
   "source": [
    "# convert temperature from K to C\n",
    "def convert_1(K):\n",
    "    return K - 273.5\n",
    "\n",
    "# convert temperature from C to K\n",
    "def convert_2(C):\n",
    "    return C + 273.5\n",
    "\n",
    "# convert temperature from C to F\n",
    "def convert_3(C):\n",
    "    return(9/5 * C) + 32\n",
    "\n",
    "# convert temperature from K to F\n",
    "def convert_4(K):\n",
    "    return (9/5* convert_1(K)) + 32\n",
    "\n",
    "#convert temperature from F to C\n",
    "def convert_5(F):\n",
    "    return (F-32) * 5/9\n",
    "\n",
    "#convert temperature from F to K\n",
    "def convert_6(F):\n",
    "    return convert_5(F) + 273.5\n"
   ]
  },
  {
   "cell_type": "markdown",
   "id": "8e8e94c7",
   "metadata": {},
   "source": [
    "In summary,\n",
    "- use convert_1(K) when converting temperature from Kelvin into degree Celcius\n",
    "- use convert_2(C) when converting temperature from degree Celcius into Kelvin\n",
    "- use convert_3(C) when converting temperature from degree Celcius into Farenheit\n",
    "- use convert_4(K) when converting temperature from Kelvin to Farenheit\n",
    "- use convert_5(F) when converting temperature from Farenheit to degree Celcius\n",
    "- use convert_6(F) when converting Farenheit into Kelvin"
   ]
  },
  {
   "cell_type": "markdown",
   "id": "2576eb2a",
   "metadata": {},
   "source": [
    "*Examples*"
   ]
  },
  {
   "cell_type": "markdown",
   "id": "53889a0c",
   "metadata": {},
   "source": [
    "1. Convert 30 degree celcius into Kelvin. Show the result in a sentence."
   ]
  },
  {
   "cell_type": "code",
   "execution_count": 2,
   "id": "897114c7",
   "metadata": {
    "scrolled": true
   },
   "outputs": [
    {
     "name": "stdout",
     "output_type": "stream",
     "text": [
      "30 degree Celcius is equivalent to 303.5 Kelvin.\n"
     ]
    }
   ],
   "source": [
    "print(\"30 degree Celcius is equivalent to\", convert_2(30), \"Kelvin.\")"
   ]
  },
  {
   "cell_type": "markdown",
   "id": "29e0c587",
   "metadata": {},
   "source": [
    "2. Convert 85 Farenheit into degree Celcius, rounded to 1 decimal point."
   ]
  },
  {
   "cell_type": "code",
   "execution_count": 6,
   "id": "acdc7bd7",
   "metadata": {},
   "outputs": [
    {
     "data": {
      "text/plain": [
       "29.4"
      ]
     },
     "execution_count": 6,
     "metadata": {},
     "output_type": "execute_result"
    }
   ],
   "source": [
    "round(convert_5(85),1)"
   ]
  }
 ],
 "metadata": {
  "kernelspec": {
   "display_name": "Python 3 (ipykernel)",
   "language": "python",
   "name": "python3"
  },
  "language_info": {
   "codemirror_mode": {
    "name": "ipython",
    "version": 3
   },
   "file_extension": ".py",
   "mimetype": "text/x-python",
   "name": "python",
   "nbconvert_exporter": "python",
   "pygments_lexer": "ipython3",
   "version": "3.9.12"
  }
 },
 "nbformat": 4,
 "nbformat_minor": 5
}
