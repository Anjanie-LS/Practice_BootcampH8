{
 "cells": [
  {
   "cell_type": "code",
   "execution_count": 1,
   "id": "006a2f94",
   "metadata": {},
   "outputs": [],
   "source": [
    "import numpy as np"
   ]
  },
  {
   "cell_type": "markdown",
   "id": "f3746ab8",
   "metadata": {},
   "source": [
    "1. "
   ]
  },
  {
   "cell_type": "code",
   "execution_count": 2,
   "id": "ff5145b4",
   "metadata": {},
   "outputs": [],
   "source": [
    "a = [17, 22, 19]\n",
    "vector_a = np.array(a)"
   ]
  },
  {
   "cell_type": "code",
   "execution_count": 3,
   "id": "02e39d92",
   "metadata": {},
   "outputs": [
    {
     "name": "stdout",
     "output_type": "stream",
     "text": [
      "[17, 22, 19]\n"
     ]
    }
   ],
   "source": [
    "print(a)"
   ]
  },
  {
   "cell_type": "markdown",
   "id": "347b68a6",
   "metadata": {},
   "source": [
    "2."
   ]
  },
  {
   "cell_type": "code",
   "execution_count": 4,
   "id": "7a5e3af7",
   "metadata": {},
   "outputs": [],
   "source": [
    "b = [10,20,11]\n",
    "vector_b = np.array(b)\n",
    "\n",
    "c = [5,12,9]\n",
    "vector_c = np.array(c)"
   ]
  },
  {
   "cell_type": "code",
   "execution_count": 5,
   "id": "40260763",
   "metadata": {},
   "outputs": [
    {
     "name": "stdout",
     "output_type": "stream",
     "text": [
      "[27 42 30]\n",
      "[7 2 8]\n",
      "520\n",
      "[170 440 209]\n",
      "33.67491648096547\n"
     ]
    }
   ],
   "source": [
    "print(vector_a + vector_b)\n",
    "\n",
    "print(vector_a - vector_b)\n",
    "\n",
    "print(vector_a @ vector_c)\n",
    "\n",
    "print(vector_a * vector_b)\n",
    "\n",
    "print(np.linalg.norm(vector_a))"
   ]
  },
  {
   "cell_type": "code",
   "execution_count": 6,
   "id": "9574cbc0",
   "metadata": {},
   "outputs": [
    {
     "name": "stdout",
     "output_type": "stream",
     "text": [
      "0.6196565094178689\n",
      "0.9024913375957206\n",
      "51.70894469135116\n"
     ]
    }
   ],
   "source": [
    "cos_theta = (vector_a @ vector_c) / (np.linalg.norm(vector_a) * np.linalg.norm(vector_b))\n",
    "print(cos_theta)\n",
    "\n",
    "radian = np.arccos(cos_theta)\n",
    "degree = np.degrees(radian)\n",
    "\n",
    "print(radian)\n",
    "print(degree)"
   ]
  },
  {
   "cell_type": "markdown",
   "id": "65f07f75",
   "metadata": {},
   "source": [
    "3. Buatlah plot dari vector berikut ini ke dalam bidang 2D:\n",
    "𝒖 = [2,5]\n",
    "𝒗 = [3,1]\n"
   ]
  },
  {
   "cell_type": "code",
   "execution_count": 7,
   "id": "92b34767",
   "metadata": {},
   "outputs": [],
   "source": [
    "import matplotlib.pyplot as plt"
   ]
  },
  {
   "cell_type": "code",
   "execution_count": 9,
   "id": "9fc5b50c",
   "metadata": {},
   "outputs": [],
   "source": [
    "def plot_vec(vec,origin = [0,0], **options):\n",
    "    return plt.arrow(origin [0], origin [1], vec[0], vec [1], head_width = 0.3, head_length = 0.3, length_includes_head = True, **options)"
   ]
  },
  {
   "cell_type": "code",
   "execution_count": 10,
   "id": "77dd2464",
   "metadata": {},
   "outputs": [
    {
     "data": {
      "text/plain": [
       "<matplotlib.patches.FancyArrow at 0x11a6f5bb0>"
      ]
     },
     "execution_count": 10,
     "metadata": {},
     "output_type": "execute_result"
    },
    {
     "data": {
      "image/png": "[encoded data removed]",
      "text/plain": [
       "<Figure size 432x288 with 1 Axes>"
      ]
     },
     "metadata": {
      "needs_background": "light"
     },
     "output_type": "display_data"
    }
   ],
   "source": [
    "u = np.array([2,5])\n",
    "v = np.array([3,1])\n",
    "\n",
    "plot_vec(u, color = 'blue')\n",
    "plot_vec(v, color = 'red')"
   ]
  }
 ],
 "metadata": {
  "kernelspec": {
   "display_name": "Python 3 (ipykernel)",
   "language": "python",
   "name": "python3"
  },
  "language_info": {
   "codemirror_mode": {
    "name": "ipython",
    "version": 3
   },
   "file_extension": ".py",
   "mimetype": "text/x-python",
   "name": "python",
   "nbconvert_exporter": "python",
   "pygments_lexer": "ipython3",
   "version": "3.9.12"
  }
 },
 "nbformat": 4,
 "nbformat_minor": 5
}
