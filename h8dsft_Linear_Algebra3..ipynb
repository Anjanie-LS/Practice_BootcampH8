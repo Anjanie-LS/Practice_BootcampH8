{
 "cells": [
  {
   "cell_type": "code",
   "execution_count": 1,
   "id": "154e5114",
   "metadata": {},
   "outputs": [],
   "source": [
    "import numpy as np"
   ]
  },
  {
   "cell_type": "code",
   "execution_count": 2,
   "id": "309b1906",
   "metadata": {},
   "outputs": [
    {
     "data": {
      "text/plain": [
       "array([[ 1, -1],\n",
       "       [ 6,  4]])"
      ]
     },
     "execution_count": 2,
     "metadata": {},
     "output_type": "execute_result"
    }
   ],
   "source": [
    "N = np.array([[1,-1],[6,4]])\n",
    "N"
   ]
  },
  {
   "cell_type": "code",
   "execution_count": 5,
   "id": "5deba405",
   "metadata": {},
   "outputs": [
    {
     "name": "stdout",
     "output_type": "stream",
     "text": [
      "[2.5+1.93649167j 2.5-1.93649167j]\n",
      "[[-0.23145502+0.29880715j -0.23145502-0.29880715j]\n",
      " [ 0.9258201 +0.j          0.9258201 -0.j        ]]\n"
     ]
    }
   ],
   "source": [
    "eig_val, vec_eig = np.linalg.eig(N)\n",
    "\n",
    "print(eig_val)\n",
    "\n",
    "print(vec_eig)"
   ]
  }
 ],
 "metadata": {
  "kernelspec": {
   "display_name": "Python 3 (ipykernel)",
   "language": "python",
   "name": "python3"
  },
  "language_info": {
   "codemirror_mode": {
    "name": "ipython",
    "version": 3
   },
   "file_extension": ".py",
   "mimetype": "text/x-python",
   "name": "python",
   "nbconvert_exporter": "python",
   "pygments_lexer": "ipython3",
   "version": "3.9.12"
  }
 },
 "nbformat": 4,
 "nbformat_minor": 5
}
