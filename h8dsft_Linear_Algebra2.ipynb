{
 "cells": [
  {
   "cell_type": "code",
   "execution_count": 1,
   "id": "3da37b76",
   "metadata": {},
   "outputs": [],
   "source": [
    "import numpy as np"
   ]
  },
  {
   "cell_type": "markdown",
   "id": "a1074c9f",
   "metadata": {},
   "source": [
    "1."
   ]
  },
  {
   "cell_type": "code",
   "execution_count": 2,
   "id": "3c6e896b",
   "metadata": {},
   "outputs": [
    {
     "data": {
      "text/plain": [
       "array([[[23, 50,  7, 12]],\n",
       "\n",
       "       [[57, 67, 99, 43]],\n",
       "\n",
       "       [[75, 21, 57, 12]],\n",
       "\n",
       "       [[87, 26, 18, 84]]])"
      ]
     },
     "execution_count": 2,
     "metadata": {},
     "output_type": "execute_result"
    }
   ],
   "source": [
    "T = np.array([[[23,50, 7,12]],\n",
    "             [[57,67,99,43]],\n",
    "              [[75,21,57,12]],\n",
    "              [[87,26,18,84]]])\n",
    "T"
   ]
  },
  {
   "cell_type": "markdown",
   "id": "7d69a00d",
   "metadata": {},
   "source": [
    "2."
   ]
  },
  {
   "cell_type": "code",
   "execution_count": 3,
   "id": "08ee20d6",
   "metadata": {},
   "outputs": [
    {
     "data": {
      "text/plain": [
       "array([[ 23,  50,  19],\n",
       "       [  7,  12, 109],\n",
       "       [ 57,  67,  98]])"
      ]
     },
     "execution_count": 3,
     "metadata": {},
     "output_type": "execute_result"
    }
   ],
   "source": [
    "A = np.array([[23,50,19],[7,12,109], [57,67,98]])\n",
    "A"
   ]
  },
  {
   "cell_type": "code",
   "execution_count": 4,
   "id": "3ba88e31",
   "metadata": {},
   "outputs": [
    {
     "data": {
      "text/plain": [
       "array([17, 22, 19])"
      ]
     },
     "execution_count": 4,
     "metadata": {},
     "output_type": "execute_result"
    }
   ],
   "source": [
    "B = np.array([17,22,19])\n",
    "B"
   ]
  },
  {
   "cell_type": "code",
   "execution_count": 5,
   "id": "131785cd",
   "metadata": {
    "scrolled": true
   },
   "outputs": [
    {
     "name": "stdout",
     "output_type": "stream",
     "text": [
      "[[ 391 1100  361]\n",
      " [ 119  264 2071]\n",
      " [ 969 1474 1862]]\n"
     ]
    }
   ],
   "source": [
    "print(A * B)"
   ]
  },
  {
   "cell_type": "markdown",
   "id": "909b9472",
   "metadata": {},
   "source": [
    "3."
   ]
  },
  {
   "cell_type": "code",
   "execution_count": 6,
   "id": "cb80d155",
   "metadata": {
    "scrolled": true
   },
   "outputs": [
    {
     "name": "stdout",
     "output_type": "stream",
     "text": [
      "[[ 23  50  19]\n",
      " [  7  12 109]\n",
      " [ 57  67  98]]\n",
      "\n",
      "\n",
      "[[ 23   7  57]\n",
      " [ 50  12  67]\n",
      " [ 19 109  98]]\n"
     ]
    }
   ],
   "source": [
    "#transpose A\n",
    "print(A)\n",
    "print(\"\\n\")\n",
    "print(A.T)"
   ]
  },
  {
   "cell_type": "code",
   "execution_count": 7,
   "id": "a14ece15",
   "metadata": {},
   "outputs": [
    {
     "data": {
      "text/plain": [
       "131344.0000000002"
      ]
     },
     "execution_count": 7,
     "metadata": {},
     "output_type": "execute_result"
    }
   ],
   "source": [
    "np.linalg.det(A)"
   ]
  },
  {
   "cell_type": "code",
   "execution_count": 8,
   "id": "4bd08b47",
   "metadata": {},
   "outputs": [
    {
     "data": {
      "text/plain": [
       "array([[-0.0466485 , -0.02761451,  0.03975819],\n",
       "       [ 0.04208034,  0.00891552, -0.01807467],\n",
       "       [-0.00163692,  0.0099662 , -0.00056341]])"
      ]
     },
     "execution_count": 8,
     "metadata": {},
     "output_type": "execute_result"
    }
   ],
   "source": [
    "np.linalg.inv(A)"
   ]
  }
 ],
 "metadata": {
  "kernelspec": {
   "display_name": "Python 3 (ipykernel)",
   "language": "python",
   "name": "python3"
  },
  "language_info": {
   "codemirror_mode": {
    "name": "ipython",
    "version": 3
   },
   "file_extension": ".py",
   "mimetype": "text/x-python",
   "name": "python",
   "nbconvert_exporter": "python",
   "pygments_lexer": "ipython3",
   "version": "3.9.12"
  }
 },
 "nbformat": 4,
 "nbformat_minor": 5
}
