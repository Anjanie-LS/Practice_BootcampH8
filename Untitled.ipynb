{
 "cells": [
  {
   "cell_type": "code",
   "execution_count": 1,
   "id": "f8dc11eb",
   "metadata": {},
   "outputs": [],
   "source": [
    "def raised_to_the_power_of_2(x):\n",
    "    result = x ** 2\n",
    "    return result"
   ]
  },
  {
   "cell_type": "code",
   "execution_count": 5,
   "id": "43a59752",
   "metadata": {},
   "outputs": [
    {
     "data": {
      "text/plain": [
       "25"
      ]
     },
     "execution_count": 5,
     "metadata": {},
     "output_type": "execute_result"
    }
   ],
   "source": [
    "raised_to_the_power_of_2(5)"
   ]
  },
  {
   "cell_type": "code",
   "execution_count": 7,
   "id": "3942e55f",
   "metadata": {},
   "outputs": [
    {
     "data": {
      "text/plain": [
       "8"
      ]
     },
     "execution_count": 7,
     "metadata": {},
     "output_type": "execute_result"
    }
   ],
   "source": [
    "multiply_by_2(4)"
   ]
  },
  {
   "cell_type": "code",
   "execution_count": 8,
   "id": "780583fa",
   "metadata": {},
   "outputs": [],
   "source": [
    "def number_of_cars(x,y):\n",
    "    R = x + 10\n",
    "    B = y * 3\n",
    "    print(\"Total number of Red and Blue cars\")\n",
    "    return(R,B)\n"
   ]
  },
  {
   "cell_type": "code",
   "execution_count": 9,
   "id": "ec6a216d",
   "metadata": {},
   "outputs": [
    {
     "name": "stdout",
     "output_type": "stream",
     "text": [
      "Total number of Red and Blue cars\n"
     ]
    },
    {
     "data": {
      "text/plain": [
       "(12, 9)"
      ]
     },
     "execution_count": 9,
     "metadata": {},
     "output_type": "execute_result"
    }
   ],
   "source": [
    "number_of_cars(2,3)"
   ]
  },
  {
   "cell_type": "code",
   "execution_count": 11,
   "id": "3481bf58",
   "metadata": {},
   "outputs": [
    {
     "data": {
      "text/plain": [
       "[1, 2, 3, 4, 5, 6]"
      ]
     },
     "execution_count": 11,
     "metadata": {},
     "output_type": "execute_result"
    }
   ],
   "source": [
    "n = [1,2,3,4,5,6]\n",
    "n"
   ]
  },
  {
   "cell_type": "code",
   "execution_count": 12,
   "id": "2187ac03",
   "metadata": {},
   "outputs": [
    {
     "name": "stdout",
     "output_type": "stream",
     "text": [
      "4 8 12 16 20 24 "
     ]
    }
   ],
   "source": [
    "for item in n:\n",
    "    print(item*4, end = ' ')"
   ]
  },
  {
   "cell_type": "code",
   "execution_count": 15,
   "id": "d011ad65",
   "metadata": {},
   "outputs": [
    {
     "name": "stdout",
     "output_type": "stream",
     "text": [
      "1\n",
      "anything else\n",
      "anything else\n",
      "4\n",
      "anything else\n",
      "anything else\n"
     ]
    }
   ],
   "source": [
    "for item in n:\n",
    "    if item % 3 == 1:\n",
    "        print(item)\n",
    "    else:\n",
    "        print(\"anything else\")"
   ]
  },
  {
   "cell_type": "code",
   "execution_count": 25,
   "id": "da707290",
   "metadata": {},
   "outputs": [
    {
     "name": "stdout",
     "output_type": "stream",
     "text": [
      "10 Dollars\n"
     ]
    }
   ],
   "source": [
    "y = 10\n",
    "y\n",
    "\n",
    "print(str(y), \"Dollars\")"
   ]
  },
  {
   "cell_type": "code",
   "execution_count": 26,
   "id": "d7ff5940",
   "metadata": {},
   "outputs": [
    {
     "name": "stdout",
     "output_type": "stream",
     "text": [
      "0 2 4 6 8 10 12 14 16 18 "
     ]
    }
   ],
   "source": [
    "for n in range(10):\n",
    "    print(2*n, end = ' ')"
   ]
  },
  {
   "cell_type": "code",
   "execution_count": 28,
   "id": "5ebcef72",
   "metadata": {},
   "outputs": [
    {
     "name": "stdout",
     "output_type": "stream",
     "text": [
      "0 Odd 2 Odd 4 Odd 6 Odd 8 Odd 10 Odd 12 Odd 14 Odd 16 Odd 18 Odd "
     ]
    }
   ],
   "source": [
    "for n in range(20):\n",
    "    if n % 2 == 0:\n",
    "        print(n, end = ' ')\n",
    "    else:\n",
    "        print(\"Odd\", end = ' ')"
   ]
  },
  {
   "cell_type": "code",
   "execution_count": 2,
   "id": "9bbabf0e",
   "metadata": {},
   "outputs": [],
   "source": [
    "def count(numbers):\n",
    "    total = 0\n",
    "    for x in numbers:\n",
    "        if x < 20:\n",
    "            total +=1\n",
    "    return total"
   ]
  },
  {
   "cell_type": "code",
   "execution_count": 3,
   "id": "cf685f32",
   "metadata": {},
   "outputs": [
    {
     "data": {
      "text/plain": [
       "5"
      ]
     },
     "execution_count": 3,
     "metadata": {},
     "output_type": "execute_result"
    }
   ],
   "source": [
    "s = 5\n",
    "s"
   ]
  },
  {
   "cell_type": "code",
   "execution_count": 4,
   "id": "9d6e9c71",
   "metadata": {},
   "outputs": [],
   "source": [
    "import numpy as np"
   ]
  },
  {
   "cell_type": "code",
   "execution_count": 5,
   "id": "cc44a27b",
   "metadata": {},
   "outputs": [
    {
     "data": {
      "text/plain": [
       "array([ 5, -2,  4])"
      ]
     },
     "execution_count": 5,
     "metadata": {},
     "output_type": "execute_result"
    }
   ],
   "source": [
    "v = np.array([5, -2, 4])\n",
    "v"
   ]
  },
  {
   "cell_type": "code",
   "execution_count": 8,
   "id": "f2bb097c",
   "metadata": {},
   "outputs": [
    {
     "data": {
      "text/plain": [
       "array([[1, 2, 3],\n",
       "       [6, 8, 9]])"
      ]
     },
     "execution_count": 8,
     "metadata": {},
     "output_type": "execute_result"
    }
   ],
   "source": [
    "m = np.array([[1,2,3],[6,8,9]])\n",
    "m"
   ]
  },
  {
   "cell_type": "code",
   "execution_count": null,
   "id": "819b33fd",
   "metadata": {},
   "outputs": [],
   "source": []
  },
  {
   "cell_type": "code",
   "execution_count": null,
   "id": "994e47cb",
   "metadata": {},
   "outputs": [],
   "source": []
  }
 ],
 "metadata": {
  "kernelspec": {
   "display_name": "Python 3 (ipykernel)",
   "language": "python",
   "name": "python3"
  },
  "language_info": {
   "codemirror_mode": {
    "name": "ipython",
    "version": 3
   },
   "file_extension": ".py",
   "mimetype": "text/x-python",
   "name": "python",
   "nbconvert_exporter": "python",
   "pygments_lexer": "ipython3",
   "version": "3.9.12"
  }
 },
 "nbformat": 4,
 "nbformat_minor": 5
}
